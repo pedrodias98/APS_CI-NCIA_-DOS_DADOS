{
 "cells": [
  {
   "cell_type": "markdown",
   "metadata": {},
   "source": [
    "# APS 5 - Questões com auxílio do Pandas"
   ]
  },
  {
   "cell_type": "markdown",
   "metadata": {},
   "source": [
    "** Nome: ** <font color=blue> insira seu nome aqui </font>\n"
   ]
  },
  {
   "cell_type": "markdown",
   "metadata": {},
   "source": [
    "APS **INDIVIDUAL**\n",
    "\n",
    "Data de Entrega: 26/Set até às 23h59 via GitHub.\n",
    "\n",
    "Vamos trabalhar com dados do USGS (United States Geological Survey) para tentar determinar se os abalos detectados no hemisfério Norte têm grande probabilidade de serem testes nucleares."
   ]
  },
  {
   "cell_type": "code",
   "execution_count": 15,
   "metadata": {
    "collapsed": true
   },
   "outputs": [],
   "source": [
    "%matplotlib inline\n",
    "import pandas as pd\n",
    "import numpy as np\n",
    "from numpy import *\n",
    "import matplotlib.pyplot as plt\n",
    "from scipy.stats import expon"
   ]
  },
  {
   "cell_type": "code",
   "execution_count": 16,
   "metadata": {},
   "outputs": [
    {
     "name": "stdout",
     "output_type": "stream",
     "text": [
      "['Date', 'Time', 'Latitude', 'Longitude', 'Type', 'Depth', 'Depth Error', 'Depth Seismic Stations', 'Magnitude', 'Magnitude Type', 'Magnitude Error', 'Magnitude Seismic Stations', 'Azimuthal Gap', 'Horizontal Distance', 'Horizontal Error', 'Root Mean Square', 'ID', 'Source', 'Location Source', 'Magnitude Source', 'Status']\n"
     ]
    }
   ],
   "source": [
    "#Abrir o arquivo\n",
    "df = pd.read_csv('earthquake.csv')\n",
    "#listar colunas\n",
    "print(list(df))"
   ]
  },
  {
   "cell_type": "markdown",
   "metadata": {},
   "source": [
    "## Liste as primeiras linhas do DataFrame"
   ]
  },
  {
   "cell_type": "code",
   "execution_count": 71,
   "metadata": {
    "scrolled": true
   },
   "outputs": [
    {
     "data": {
      "text/html": [
       "<div>\n",
       "<style>\n",
       "    .dataframe thead tr:only-child th {\n",
       "        text-align: right;\n",
       "    }\n",
       "\n",
       "    .dataframe thead th {\n",
       "        text-align: left;\n",
       "    }\n",
       "\n",
       "    .dataframe tbody tr th {\n",
       "        vertical-align: top;\n",
       "    }\n",
       "</style>\n",
       "<table border=\"1\" class=\"dataframe\">\n",
       "  <thead>\n",
       "    <tr style=\"text-align: right;\">\n",
       "      <th></th>\n",
       "      <th>Date</th>\n",
       "      <th>Time</th>\n",
       "      <th>Latitude</th>\n",
       "      <th>Longitude</th>\n",
       "      <th>Type</th>\n",
       "      <th>Depth</th>\n",
       "      <th>Depth Error</th>\n",
       "      <th>Depth Seismic Stations</th>\n",
       "      <th>Magnitude</th>\n",
       "      <th>Magnitude Type</th>\n",
       "      <th>...</th>\n",
       "      <th>Azimuthal Gap</th>\n",
       "      <th>Horizontal Distance</th>\n",
       "      <th>Horizontal Error</th>\n",
       "      <th>Root Mean Square</th>\n",
       "      <th>ID</th>\n",
       "      <th>Source</th>\n",
       "      <th>Location Source</th>\n",
       "      <th>Magnitude Source</th>\n",
       "      <th>Status</th>\n",
       "      <th>Hemisfério</th>\n",
       "    </tr>\n",
       "  </thead>\n",
       "  <tbody>\n",
       "    <tr>\n",
       "      <th>0</th>\n",
       "      <td>01/02/1965</td>\n",
       "      <td>13:44:18</td>\n",
       "      <td>19.246</td>\n",
       "      <td>145.616</td>\n",
       "      <td>Earthquake</td>\n",
       "      <td>131.6</td>\n",
       "      <td>NaN</td>\n",
       "      <td>NaN</td>\n",
       "      <td>6.0</td>\n",
       "      <td>MW</td>\n",
       "      <td>...</td>\n",
       "      <td>NaN</td>\n",
       "      <td>NaN</td>\n",
       "      <td>NaN</td>\n",
       "      <td>NaN</td>\n",
       "      <td>ISCGEM860706</td>\n",
       "      <td>ISCGEM</td>\n",
       "      <td>ISCGEM</td>\n",
       "      <td>ISCGEM</td>\n",
       "      <td>Automatic</td>\n",
       "      <td>Norte</td>\n",
       "    </tr>\n",
       "    <tr>\n",
       "      <th>1</th>\n",
       "      <td>01/04/1965</td>\n",
       "      <td>11:29:49</td>\n",
       "      <td>1.863</td>\n",
       "      <td>127.352</td>\n",
       "      <td>Earthquake</td>\n",
       "      <td>80.0</td>\n",
       "      <td>NaN</td>\n",
       "      <td>NaN</td>\n",
       "      <td>5.8</td>\n",
       "      <td>MW</td>\n",
       "      <td>...</td>\n",
       "      <td>NaN</td>\n",
       "      <td>NaN</td>\n",
       "      <td>NaN</td>\n",
       "      <td>NaN</td>\n",
       "      <td>ISCGEM860737</td>\n",
       "      <td>ISCGEM</td>\n",
       "      <td>ISCGEM</td>\n",
       "      <td>ISCGEM</td>\n",
       "      <td>Automatic</td>\n",
       "      <td>Norte</td>\n",
       "    </tr>\n",
       "    <tr>\n",
       "      <th>2</th>\n",
       "      <td>01/05/1965</td>\n",
       "      <td>18:05:58</td>\n",
       "      <td>-20.579</td>\n",
       "      <td>-173.972</td>\n",
       "      <td>Earthquake</td>\n",
       "      <td>20.0</td>\n",
       "      <td>NaN</td>\n",
       "      <td>NaN</td>\n",
       "      <td>6.2</td>\n",
       "      <td>MW</td>\n",
       "      <td>...</td>\n",
       "      <td>NaN</td>\n",
       "      <td>NaN</td>\n",
       "      <td>NaN</td>\n",
       "      <td>NaN</td>\n",
       "      <td>ISCGEM860762</td>\n",
       "      <td>ISCGEM</td>\n",
       "      <td>ISCGEM</td>\n",
       "      <td>ISCGEM</td>\n",
       "      <td>Automatic</td>\n",
       "      <td>Sul</td>\n",
       "    </tr>\n",
       "    <tr>\n",
       "      <th>3</th>\n",
       "      <td>01/08/1965</td>\n",
       "      <td>18:49:43</td>\n",
       "      <td>-59.076</td>\n",
       "      <td>-23.557</td>\n",
       "      <td>Earthquake</td>\n",
       "      <td>15.0</td>\n",
       "      <td>NaN</td>\n",
       "      <td>NaN</td>\n",
       "      <td>5.8</td>\n",
       "      <td>MW</td>\n",
       "      <td>...</td>\n",
       "      <td>NaN</td>\n",
       "      <td>NaN</td>\n",
       "      <td>NaN</td>\n",
       "      <td>NaN</td>\n",
       "      <td>ISCGEM860856</td>\n",
       "      <td>ISCGEM</td>\n",
       "      <td>ISCGEM</td>\n",
       "      <td>ISCGEM</td>\n",
       "      <td>Automatic</td>\n",
       "      <td>Sul</td>\n",
       "    </tr>\n",
       "    <tr>\n",
       "      <th>4</th>\n",
       "      <td>01/09/1965</td>\n",
       "      <td>13:32:50</td>\n",
       "      <td>11.938</td>\n",
       "      <td>126.427</td>\n",
       "      <td>Earthquake</td>\n",
       "      <td>15.0</td>\n",
       "      <td>NaN</td>\n",
       "      <td>NaN</td>\n",
       "      <td>5.8</td>\n",
       "      <td>MW</td>\n",
       "      <td>...</td>\n",
       "      <td>NaN</td>\n",
       "      <td>NaN</td>\n",
       "      <td>NaN</td>\n",
       "      <td>NaN</td>\n",
       "      <td>ISCGEM860890</td>\n",
       "      <td>ISCGEM</td>\n",
       "      <td>ISCGEM</td>\n",
       "      <td>ISCGEM</td>\n",
       "      <td>Automatic</td>\n",
       "      <td>Norte</td>\n",
       "    </tr>\n",
       "  </tbody>\n",
       "</table>\n",
       "<p>5 rows × 22 columns</p>\n",
       "</div>"
      ],
      "text/plain": [
       "         Date      Time  Latitude  Longitude        Type  Depth  Depth Error  \\\n",
       "0  01/02/1965  13:44:18    19.246    145.616  Earthquake  131.6          NaN   \n",
       "1  01/04/1965  11:29:49     1.863    127.352  Earthquake   80.0          NaN   \n",
       "2  01/05/1965  18:05:58   -20.579   -173.972  Earthquake   20.0          NaN   \n",
       "3  01/08/1965  18:49:43   -59.076    -23.557  Earthquake   15.0          NaN   \n",
       "4  01/09/1965  13:32:50    11.938    126.427  Earthquake   15.0          NaN   \n",
       "\n",
       "   Depth Seismic Stations  Magnitude Magnitude Type    ...      Azimuthal Gap  \\\n",
       "0                     NaN        6.0             MW    ...                NaN   \n",
       "1                     NaN        5.8             MW    ...                NaN   \n",
       "2                     NaN        6.2             MW    ...                NaN   \n",
       "3                     NaN        5.8             MW    ...                NaN   \n",
       "4                     NaN        5.8             MW    ...                NaN   \n",
       "\n",
       "   Horizontal Distance  Horizontal Error  Root Mean Square            ID  \\\n",
       "0                  NaN               NaN               NaN  ISCGEM860706   \n",
       "1                  NaN               NaN               NaN  ISCGEM860737   \n",
       "2                  NaN               NaN               NaN  ISCGEM860762   \n",
       "3                  NaN               NaN               NaN  ISCGEM860856   \n",
       "4                  NaN               NaN               NaN  ISCGEM860890   \n",
       "\n",
       "   Source Location Source Magnitude Source     Status Hemisfério  \n",
       "0  ISCGEM          ISCGEM           ISCGEM  Automatic      Norte  \n",
       "1  ISCGEM          ISCGEM           ISCGEM  Automatic      Norte  \n",
       "2  ISCGEM          ISCGEM           ISCGEM  Automatic        Sul  \n",
       "3  ISCGEM          ISCGEM           ISCGEM  Automatic        Sul  \n",
       "4  ISCGEM          ISCGEM           ISCGEM  Automatic      Norte  \n",
       "\n",
       "[5 rows x 22 columns]"
      ]
     },
     "execution_count": 71,
     "metadata": {},
     "output_type": "execute_result"
    }
   ],
   "source": [
    "df.head()\n"
   ]
  },
  {
   "cell_type": "code",
   "execution_count": 72,
   "metadata": {},
   "outputs": [
    {
     "data": {
      "text/plain": [
       "Earthquake           23232\n",
       "Nuclear Explosion      175\n",
       "Explosion                4\n",
       "Rock Burst               1\n",
       "Name: Type, dtype: int64"
      ]
     },
     "execution_count": 72,
     "metadata": {},
     "output_type": "execute_result"
    }
   ],
   "source": [
    "df.Type.value_counts()"
   ]
  },
  {
   "cell_type": "markdown",
   "metadata": {},
   "source": [
    "## Q1 - Manipulando o DataFrame\n",
    "\n",
    "Crie uma coluna chamada `Hemisfério` baseada na Latitude\n",
    "\n",
    "A regra de formação é a seguinte:\n",
    "\n",
    "Valor | Critério\n",
    "---|---\n",
    "Norte | Latitude positiva\n",
    "Sul | Latitude negativa"
   ]
  },
  {
   "cell_type": "code",
   "execution_count": 18,
   "metadata": {},
   "outputs": [
    {
     "data": {
      "text/html": [
       "<div>\n",
       "<style>\n",
       "    .dataframe thead tr:only-child th {\n",
       "        text-align: right;\n",
       "    }\n",
       "\n",
       "    .dataframe thead th {\n",
       "        text-align: left;\n",
       "    }\n",
       "\n",
       "    .dataframe tbody tr th {\n",
       "        vertical-align: top;\n",
       "    }\n",
       "</style>\n",
       "<table border=\"1\" class=\"dataframe\">\n",
       "  <thead>\n",
       "    <tr style=\"text-align: right;\">\n",
       "      <th></th>\n",
       "      <th>Date</th>\n",
       "      <th>Time</th>\n",
       "      <th>Latitude</th>\n",
       "      <th>Longitude</th>\n",
       "      <th>Type</th>\n",
       "      <th>Depth</th>\n",
       "      <th>Depth Error</th>\n",
       "      <th>Depth Seismic Stations</th>\n",
       "      <th>Magnitude</th>\n",
       "      <th>Magnitude Type</th>\n",
       "      <th>...</th>\n",
       "      <th>Azimuthal Gap</th>\n",
       "      <th>Horizontal Distance</th>\n",
       "      <th>Horizontal Error</th>\n",
       "      <th>Root Mean Square</th>\n",
       "      <th>ID</th>\n",
       "      <th>Source</th>\n",
       "      <th>Location Source</th>\n",
       "      <th>Magnitude Source</th>\n",
       "      <th>Status</th>\n",
       "      <th>Hemisfério</th>\n",
       "    </tr>\n",
       "  </thead>\n",
       "  <tbody>\n",
       "    <tr>\n",
       "      <th>0</th>\n",
       "      <td>01/02/1965</td>\n",
       "      <td>13:44:18</td>\n",
       "      <td>19.246</td>\n",
       "      <td>145.616</td>\n",
       "      <td>Earthquake</td>\n",
       "      <td>131.6</td>\n",
       "      <td>NaN</td>\n",
       "      <td>NaN</td>\n",
       "      <td>6.0</td>\n",
       "      <td>MW</td>\n",
       "      <td>...</td>\n",
       "      <td>NaN</td>\n",
       "      <td>NaN</td>\n",
       "      <td>NaN</td>\n",
       "      <td>NaN</td>\n",
       "      <td>ISCGEM860706</td>\n",
       "      <td>ISCGEM</td>\n",
       "      <td>ISCGEM</td>\n",
       "      <td>ISCGEM</td>\n",
       "      <td>Automatic</td>\n",
       "      <td>Norte</td>\n",
       "    </tr>\n",
       "    <tr>\n",
       "      <th>1</th>\n",
       "      <td>01/04/1965</td>\n",
       "      <td>11:29:49</td>\n",
       "      <td>1.863</td>\n",
       "      <td>127.352</td>\n",
       "      <td>Earthquake</td>\n",
       "      <td>80.0</td>\n",
       "      <td>NaN</td>\n",
       "      <td>NaN</td>\n",
       "      <td>5.8</td>\n",
       "      <td>MW</td>\n",
       "      <td>...</td>\n",
       "      <td>NaN</td>\n",
       "      <td>NaN</td>\n",
       "      <td>NaN</td>\n",
       "      <td>NaN</td>\n",
       "      <td>ISCGEM860737</td>\n",
       "      <td>ISCGEM</td>\n",
       "      <td>ISCGEM</td>\n",
       "      <td>ISCGEM</td>\n",
       "      <td>Automatic</td>\n",
       "      <td>Norte</td>\n",
       "    </tr>\n",
       "    <tr>\n",
       "      <th>2</th>\n",
       "      <td>01/05/1965</td>\n",
       "      <td>18:05:58</td>\n",
       "      <td>-20.579</td>\n",
       "      <td>-173.972</td>\n",
       "      <td>Earthquake</td>\n",
       "      <td>20.0</td>\n",
       "      <td>NaN</td>\n",
       "      <td>NaN</td>\n",
       "      <td>6.2</td>\n",
       "      <td>MW</td>\n",
       "      <td>...</td>\n",
       "      <td>NaN</td>\n",
       "      <td>NaN</td>\n",
       "      <td>NaN</td>\n",
       "      <td>NaN</td>\n",
       "      <td>ISCGEM860762</td>\n",
       "      <td>ISCGEM</td>\n",
       "      <td>ISCGEM</td>\n",
       "      <td>ISCGEM</td>\n",
       "      <td>Automatic</td>\n",
       "      <td>Sul</td>\n",
       "    </tr>\n",
       "    <tr>\n",
       "      <th>3</th>\n",
       "      <td>01/08/1965</td>\n",
       "      <td>18:49:43</td>\n",
       "      <td>-59.076</td>\n",
       "      <td>-23.557</td>\n",
       "      <td>Earthquake</td>\n",
       "      <td>15.0</td>\n",
       "      <td>NaN</td>\n",
       "      <td>NaN</td>\n",
       "      <td>5.8</td>\n",
       "      <td>MW</td>\n",
       "      <td>...</td>\n",
       "      <td>NaN</td>\n",
       "      <td>NaN</td>\n",
       "      <td>NaN</td>\n",
       "      <td>NaN</td>\n",
       "      <td>ISCGEM860856</td>\n",
       "      <td>ISCGEM</td>\n",
       "      <td>ISCGEM</td>\n",
       "      <td>ISCGEM</td>\n",
       "      <td>Automatic</td>\n",
       "      <td>Sul</td>\n",
       "    </tr>\n",
       "    <tr>\n",
       "      <th>4</th>\n",
       "      <td>01/09/1965</td>\n",
       "      <td>13:32:50</td>\n",
       "      <td>11.938</td>\n",
       "      <td>126.427</td>\n",
       "      <td>Earthquake</td>\n",
       "      <td>15.0</td>\n",
       "      <td>NaN</td>\n",
       "      <td>NaN</td>\n",
       "      <td>5.8</td>\n",
       "      <td>MW</td>\n",
       "      <td>...</td>\n",
       "      <td>NaN</td>\n",
       "      <td>NaN</td>\n",
       "      <td>NaN</td>\n",
       "      <td>NaN</td>\n",
       "      <td>ISCGEM860890</td>\n",
       "      <td>ISCGEM</td>\n",
       "      <td>ISCGEM</td>\n",
       "      <td>ISCGEM</td>\n",
       "      <td>Automatic</td>\n",
       "      <td>Norte</td>\n",
       "    </tr>\n",
       "  </tbody>\n",
       "</table>\n",
       "<p>5 rows × 22 columns</p>\n",
       "</div>"
      ],
      "text/plain": [
       "         Date      Time  Latitude  Longitude        Type  Depth  Depth Error  \\\n",
       "0  01/02/1965  13:44:18    19.246    145.616  Earthquake  131.6          NaN   \n",
       "1  01/04/1965  11:29:49     1.863    127.352  Earthquake   80.0          NaN   \n",
       "2  01/05/1965  18:05:58   -20.579   -173.972  Earthquake   20.0          NaN   \n",
       "3  01/08/1965  18:49:43   -59.076    -23.557  Earthquake   15.0          NaN   \n",
       "4  01/09/1965  13:32:50    11.938    126.427  Earthquake   15.0          NaN   \n",
       "\n",
       "   Depth Seismic Stations  Magnitude Magnitude Type    ...      Azimuthal Gap  \\\n",
       "0                     NaN        6.0             MW    ...                NaN   \n",
       "1                     NaN        5.8             MW    ...                NaN   \n",
       "2                     NaN        6.2             MW    ...                NaN   \n",
       "3                     NaN        5.8             MW    ...                NaN   \n",
       "4                     NaN        5.8             MW    ...                NaN   \n",
       "\n",
       "   Horizontal Distance  Horizontal Error  Root Mean Square            ID  \\\n",
       "0                  NaN               NaN               NaN  ISCGEM860706   \n",
       "1                  NaN               NaN               NaN  ISCGEM860737   \n",
       "2                  NaN               NaN               NaN  ISCGEM860762   \n",
       "3                  NaN               NaN               NaN  ISCGEM860856   \n",
       "4                  NaN               NaN               NaN  ISCGEM860890   \n",
       "\n",
       "   Source Location Source Magnitude Source     Status Hemisfério  \n",
       "0  ISCGEM          ISCGEM           ISCGEM  Automatic      Norte  \n",
       "1  ISCGEM          ISCGEM           ISCGEM  Automatic      Norte  \n",
       "2  ISCGEM          ISCGEM           ISCGEM  Automatic        Sul  \n",
       "3  ISCGEM          ISCGEM           ISCGEM  Automatic        Sul  \n",
       "4  ISCGEM          ISCGEM           ISCGEM  Automatic      Norte  \n",
       "\n",
       "[5 rows x 22 columns]"
      ]
     },
     "execution_count": 18,
     "metadata": {},
     "output_type": "execute_result"
    }
   ],
   "source": [
    "df.loc[(df.Latitude<=0), 'Hemisfério'] = 'Sul' \n",
    "df.loc[(df.Latitude>0), 'Hemisfério'] = 'Norte'\n",
    "df.head()"
   ]
  },
  {
   "cell_type": "markdown",
   "metadata": {},
   "source": [
    "## Q2 - Fit e Histograma\n",
    "\n",
    "Faça o Histograma da Magnitude. Interprete."
   ]
  },
  {
   "cell_type": "code",
   "execution_count": 79,
   "metadata": {
    "collapsed": true
   },
   "outputs": [],
   "source": [
    "dfM=df.Magnitude\n",
    "faixa = arange(5.5,8.2,0.1)"
   ]
  },
  {
   "cell_type": "code",
   "execution_count": 80,
   "metadata": {},
   "outputs": [
    {
     "name": "stdout",
     "output_type": "stream",
     "text": [
      "Frequências relativas:\n",
      "[5.5, 5.6)    20.1\n",
      "[5.6, 5.7)    17.0\n",
      "[5.7, 5.8)    13.2\n",
      "[5.8, 5.9)    10.1\n",
      "[5.9, 6.0)     8.3\n",
      "[6.0, 6.1)     6.8\n",
      "[6.1, 6.2)     5.2\n",
      "[6.2, 6.3)     3.9\n",
      "[6.3, 6.4)     3.3\n",
      "[6.4, 6.5)     2.5\n",
      "[6.5, 6.6)     2.0\n",
      "[6.6, 6.7)     1.6\n",
      "[6.7, 6.8)     1.3\n",
      "[6.8, 6.9)     1.0\n",
      "[6.9, 7.0)     0.8\n",
      "[7.0, 7.1)     0.7\n",
      "[7.1, 7.2)     0.5\n",
      "[7.2, 7.3)     0.4\n",
      "[7.3, 7.4)     0.3\n",
      "[7.4, 7.5)     0.3\n",
      "[7.5, 7.6)     0.2\n",
      "[7.6, 7.7)     0.2\n",
      "[7.7, 7.8)     0.2\n",
      "[7.8, 7.9)     0.1\n",
      "[7.9, 8.0)     0.1\n",
      "[8.0, 8.1)     0.1\n",
      "Name: Magnitude, dtype: float64 \n",
      "\n"
     ]
    }
   ],
   "source": [
    "dfMcat = pd.cut(dfM, faixa, False)\n",
    "print('Frequências relativas:')\n",
    "ut1 = (dfMcat.value_counts(sort=False, normalize=True)*100).round(decimals=1)\n",
    "print(ut1,'\\n')"
   ]
  },
  {
   "cell_type": "code",
   "execution_count": 111,
   "metadata": {},
   "outputs": [
    {
     "data": {
      "text/plain": [
       "<matplotlib.text.Text at 0xc1fad10>"
      ]
     },
     "execution_count": 111,
     "metadata": {},
     "output_type": "execute_result"
    },
    {
     "data": {
      "image/png": "[encoded data removed]",
      "text/plain": [
       "<matplotlib.figure.Figure at 0xad43f70>"
      ]
     },
     "metadata": {},
     "output_type": "display_data"
    }
   ],
   "source": [
    "plot = dfM.plot.hist(bins=faixa,title='HISTOGRAMA',normed=1, figsize=(6, 6), alpha=1.0)\n",
    "plt.xlabel('intensidade')\n",
    "plt.ylabel('densidade')\n"
   ]
  },
  {
   "cell_type": "markdown",
   "metadata": {},
   "source": [
    "Faça o fit de uma distribuição exponencial sobre os dados da Magnitude, achando os valores de **loc** e **scale**. Interprete loc e scale no caso da exponencial.\n",
    "Documentação: https://docs.scipy.org/doc/scipy/reference/generated/scipy.stats.expon.html"
   ]
  },
  {
   "cell_type": "code",
   "execution_count": 82,
   "metadata": {},
   "outputs": [
    {
     "data": {
      "text/plain": [
       "(5.4999999996710809, 0.38254864885090978)"
      ]
     },
     "execution_count": 82,
     "metadata": {},
     "output_type": "execute_result"
    }
   ],
   "source": [
    "expon.fit(df[\"Magnitude\"])"
   ]
  },
  {
   "cell_type": "markdown",
   "metadata": {},
   "source": [
    "Loc: Seria o x que começa o gráfico\n",
    "\n",
    "Scale:seria 1/y no ponto onde partiria"
   ]
  },
  {
   "cell_type": "markdown",
   "metadata": {},
   "source": [
    "Refaça o Histograma plotando a fdp (função densidade de probabilidade) da exponencial com os parâmetros achados no fit em cima. Cuidado com o domínio utilizado. Interprete."
   ]
  },
  {
   "cell_type": "code",
   "execution_count": 134,
   "metadata": {},
   "outputs": [
    {
     "data": {
      "text/plain": [
       "[<matplotlib.lines.Line2D at 0xccbf790>]"
      ]
     },
     "execution_count": 134,
     "metadata": {},
     "output_type": "execute_result"
    },
    {
     "data": {
      "image/png": "[encoded data removed]",
      "text/plain": [
       "<matplotlib.figure.Figure at 0xccbf250>"
      ]
     },
     "metadata": {},
     "output_type": "display_data"
    }
   ],
   "source": [
    "plot = dfM.plot.hist(bins=faixa,title='HISTOGRAMA',normed=1, figsize=(6, 6), alpha=1.0)\n",
    "plt.plot(faixa,expon.pdf(faixa,loc = 5.4999999996710809, scale = 0.38254864885090978), alpha = 0.6)"
   ]
  },
  {
   "cell_type": "markdown",
   "metadata": {},
   "source": [
    "#### Q3 - Tabela cruzada\n",
    "\n",
    "Faça uma tabela de cruzamento das variáveis `Hemisfério` e `Type`\n",
    "\n",
    "Sua tabela deve ser <font color=red> normalizada</font>"
   ]
  },
  {
   "cell_type": "code",
   "execution_count": 174,
   "metadata": {
    "scrolled": true
   },
   "outputs": [
    {
     "data": {
      "text/html": [
       "<div>\n",
       "<style>\n",
       "    .dataframe thead tr:only-child th {\n",
       "        text-align: right;\n",
       "    }\n",
       "\n",
       "    .dataframe thead th {\n",
       "        text-align: left;\n",
       "    }\n",
       "\n",
       "    .dataframe tbody tr th {\n",
       "        vertical-align: top;\n",
       "    }\n",
       "</style>\n",
       "<table border=\"1\" class=\"dataframe\">\n",
       "  <thead>\n",
       "    <tr style=\"text-align: right;\">\n",
       "      <th>Tipo</th>\n",
       "      <th>Earthquake</th>\n",
       "      <th>Explosion</th>\n",
       "      <th>Nuclear Explosion</th>\n",
       "      <th>Rock Burst</th>\n",
       "      <th>All</th>\n",
       "    </tr>\n",
       "    <tr>\n",
       "      <th>Hemisfério</th>\n",
       "      <th></th>\n",
       "      <th></th>\n",
       "      <th></th>\n",
       "      <th></th>\n",
       "      <th></th>\n",
       "    </tr>\n",
       "  </thead>\n",
       "  <tbody>\n",
       "    <tr>\n",
       "      <th>Norte</th>\n",
       "      <td>44.71</td>\n",
       "      <td>0.01</td>\n",
       "      <td>0.63</td>\n",
       "      <td>0.0</td>\n",
       "      <td>45.35</td>\n",
       "    </tr>\n",
       "    <tr>\n",
       "      <th>Sul</th>\n",
       "      <td>54.52</td>\n",
       "      <td>0.01</td>\n",
       "      <td>0.12</td>\n",
       "      <td>0.0</td>\n",
       "      <td>54.65</td>\n",
       "    </tr>\n",
       "    <tr>\n",
       "      <th>All</th>\n",
       "      <td>99.23</td>\n",
       "      <td>0.02</td>\n",
       "      <td>0.75</td>\n",
       "      <td>0.0</td>\n",
       "      <td>100.00</td>\n",
       "    </tr>\n",
       "  </tbody>\n",
       "</table>\n",
       "</div>"
      ],
      "text/plain": [
       "Tipo        Earthquake  Explosion  Nuclear Explosion  Rock Burst     All\n",
       "Hemisfério                                                              \n",
       "Norte            44.71       0.01               0.63         0.0   45.35\n",
       "Sul              54.52       0.01               0.12         0.0   54.65\n",
       "All              99.23       0.02               0.75         0.0  100.00"
      ]
     },
     "execution_count": 174,
     "metadata": {},
     "output_type": "execute_result"
    }
   ],
   "source": [
    "TipoM = pd.crosstab( df.Hemisfério, df.Type, margins=True, rownames=['Hemisfério'], colnames=['Tipo'], normalize=True)*100\n",
    "TipoM = TipoM.round(decimals=2)\n",
    "TipoM"
   ]
  },
  {
   "cell_type": "markdown",
   "metadata": {},
   "source": [
    "### Q3.1 - Qual a probabilidade de ocorrer um terremoto no hemisfério norte?"
   ]
  },
  {
   "cell_type": "markdown",
   "metadata": {},
   "source": [
    "Adicione na célula abaixo o cálculo:"
   ]
  },
  {
   "cell_type": "code",
   "execution_count": 146,
   "metadata": {},
   "outputs": [
    {
     "name": "stdout",
     "output_type": "stream",
     "text": [
      "P = 44.71%\n"
     ]
    }
   ],
   "source": [
    "P = TipoM.Earthquake[0]\n",
    "print(\"P = \"+ str(P) +\"%\")"
   ]
  },
  {
   "cell_type": "markdown",
   "metadata": {},
   "source": [
    "Explique o seu raciocínio"
   ]
  },
  {
   "cell_type": "markdown",
   "metadata": {
    "collapsed": true
   },
   "source": [
    "A probabilidade de ter um terremoto no hemisfério norte seria a probabilidade de ser um terremoto e no norte P(N∩E).\n"
   ]
  },
  {
   "cell_type": "markdown",
   "metadata": {},
   "source": [
    "### Q3.2 - Dado que aconteceu no Norte, qual a probabilidade de ele ter sido `Nuclear Explosion`? "
   ]
  },
  {
   "cell_type": "markdown",
   "metadata": {},
   "source": [
    "Calcule a resposta abaixo, ou explique como a encontrou"
   ]
  },
  {
   "cell_type": "markdown",
   "metadata": {},
   "source": [
    "Se for cálculo preencha a célula a seguir:"
   ]
  },
  {
   "cell_type": "code",
   "execution_count": 94,
   "metadata": {},
   "outputs": [
    {
     "name": "stdout",
     "output_type": "stream",
     "text": [
      "P = 1.38919514884%\n"
     ]
    }
   ],
   "source": [
    "#P(Ex|N) = P(Ex ∩ N)/P(N)\n",
    "P = TipoM['Nuclear Explosion'][0]/TipoM['All'][0]\n",
    "print(\"P = \"+ str(P*100) +\"%\")"
   ]
  },
  {
   "cell_type": "markdown",
   "metadata": {},
   "source": [
    "## Q4 - Análise bivariada\n",
    "\n",
    "Faça o *plot* de dispersão (*scatter plot*) entre as variáveis `Magnitude Error`  e `Depth`"
   ]
  },
  {
   "cell_type": "code",
   "execution_count": 48,
   "metadata": {},
   "outputs": [
    {
     "data": {
      "image/png": "[encoded data removed]",
      "text/plain": [
       "<matplotlib.figure.Figure at 0xa0fc830>"
      ]
     },
     "metadata": {},
     "output_type": "display_data"
    }
   ],
   "source": [
    "plt.scatter(df['Magnitude Error'], df.Depth)\n",
    "plt.xlabel(\"Magnitude Error\")\n",
    "plt.ylabel(\"Depth\")\n",
    "plt.show()"
   ]
  },
  {
   "cell_type": "markdown",
   "metadata": {},
   "source": [
    "Calcule a correlação entre as variáveis `Magnitude Error`  e `Depth`"
   ]
  },
  {
   "cell_type": "code",
   "execution_count": 16,
   "metadata": {},
   "outputs": [
    {
     "data": {
      "text/plain": [
       "-0.076918438923387247"
      ]
     },
     "execution_count": 16,
     "metadata": {},
     "output_type": "execute_result"
    }
   ],
   "source": [
    "df.Depth.corr(df['Magnitude Error'])"
   ]
  },
  {
   "cell_type": "markdown",
   "metadata": {},
   "source": [
    "Explique o que significa o valor da correlação calculada acima? "
   ]
  },
  {
   "cell_type": "markdown",
   "metadata": {
    "collapsed": true
   },
   "source": [
    "Quanto mais próximo de zero menor a liearidade entre elas, ou seja, maior dispersão e  menor sua correlação. Assim o gráfico de correlação, ou seja, sua linearidade teria uma ângulação de tangente negativa e por isso seu coeficinte é negativo."
   ]
  },
  {
   "cell_type": "markdown",
   "metadata": {},
   "source": [
    "## Q5 - Describe e boxplot\n",
    "\n",
    "Faça o `describe` e o *boxplot* da `Latitude` e da `Longitude`. Explique os valores"
   ]
  },
  {
   "cell_type": "code",
   "execution_count": 41,
   "metadata": {},
   "outputs": [
    {
     "name": "stdout",
     "output_type": "stream",
     "text": [
      "Longitude\n"
     ]
    },
    {
     "data": {
      "text/plain": [
       "count    23412.000000\n",
       "mean        39.639961\n",
       "std        125.511959\n",
       "min       -179.997000\n",
       "25%        -76.349750\n",
       "50%        103.982000\n",
       "75%        145.026250\n",
       "max        179.998000\n",
       "Name: Longitude, dtype: float64"
      ]
     },
     "execution_count": 41,
     "metadata": {},
     "output_type": "execute_result"
    },
    {
     "data": {
      "image/png": "[encoded data removed]",
      "text/plain": [
       "<matplotlib.figure.Figure at 0x5dd1750>"
      ]
     },
     "metadata": {},
     "output_type": "display_data"
    }
   ],
   "source": [
    "plot = df.Longitude.plot(kind='box',title='longitude')\n",
    "\n",
    "print(\"Longitude\")\n",
    "df.Longitude.describe()\n"
   ]
  },
  {
   "cell_type": "code",
   "execution_count": 51,
   "metadata": {},
   "outputs": [
    {
     "name": "stdout",
     "output_type": "stream",
     "text": [
      "Latitude\n"
     ]
    },
    {
     "data": {
      "text/plain": [
       "count    23412.000000\n",
       "mean         1.679033\n",
       "std         30.113183\n",
       "min        -77.080000\n",
       "25%        -18.653000\n",
       "50%         -3.568500\n",
       "75%         26.190750\n",
       "max         86.005000\n",
       "Name: Latitude, dtype: float64"
      ]
     },
     "execution_count": 51,
     "metadata": {},
     "output_type": "execute_result"
    },
    {
     "data": {
      "image/png": "[encoded data removed]",
      "text/plain": [
       "<matplotlib.figure.Figure at 0x67b8870>"
      ]
     },
     "metadata": {},
     "output_type": "display_data"
    }
   ],
   "source": [
    "plot = df.Latitude.plot(kind='box',title='latitude')\n",
    "\n",
    "print(\"Latitude\")\n",
    "df.Latitude.describe()"
   ]
  },
  {
   "cell_type": "markdown",
   "metadata": {},
   "source": [
    "Analizando ambos os dados (Longitude e Latitude), percebe-se que aqueles que estão entre [0, -20°S] e [100°, 150° L] eram aqueles que tinham maior probabilidade de acontecer desastres."
   ]
  },
  {
   "cell_type": "markdown",
   "metadata": {},
   "source": [
    "## Q6 - Tirando conclusões com base nos dados\n",
    "\n",
    "Em um certo lugar já ocorreram abalos com *Magnitude Type* `MB` e *Type* `Nuclear Explosion`. \n",
    "\n",
    "**- Considerando que Magnitude Type e Type  são independentes: **\n",
    "\n",
    "** 1) Pnorte = P(N|MB∩Ex) **\n",
    "\n",
    "** 2) Psul = P(S|MB∩Ex)  **\n",
    "\n",
    "** Como foi provado abaixo a probabilidade de ocorrer um Type Explosion ou Magnitude Type tem maior probabilidade de ocorrer no sul!** "
   ]
  },
  {
   "cell_type": "code",
   "execution_count": 183,
   "metadata": {},
   "outputs": [
    {
     "data": {
      "text/html": [
       "<div>\n",
       "<style>\n",
       "    .dataframe thead tr:only-child th {\n",
       "        text-align: right;\n",
       "    }\n",
       "\n",
       "    .dataframe thead th {\n",
       "        text-align: left;\n",
       "    }\n",
       "\n",
       "    .dataframe tbody tr th {\n",
       "        vertical-align: top;\n",
       "    }\n",
       "</style>\n",
       "<table border=\"1\" class=\"dataframe\">\n",
       "  <thead>\n",
       "    <tr style=\"text-align: right;\">\n",
       "      <th></th>\n",
       "      <th>Hemisfério</th>\n",
       "      <th>Norte</th>\n",
       "      <th>Sul</th>\n",
       "      <th>All</th>\n",
       "    </tr>\n",
       "    <tr>\n",
       "      <th>Type</th>\n",
       "      <th>Magnitude Type</th>\n",
       "      <th></th>\n",
       "      <th></th>\n",
       "      <th></th>\n",
       "    </tr>\n",
       "  </thead>\n",
       "  <tbody>\n",
       "    <tr>\n",
       "      <th rowspan=\"10\" valign=\"top\">Earthquake</th>\n",
       "      <th>MB</th>\n",
       "      <td>1547</td>\n",
       "      <td>2047</td>\n",
       "      <td>3594</td>\n",
       "    </tr>\n",
       "    <tr>\n",
       "      <th>MD</th>\n",
       "      <td>6</td>\n",
       "      <td>0</td>\n",
       "      <td>6</td>\n",
       "    </tr>\n",
       "    <tr>\n",
       "      <th>MH</th>\n",
       "      <td>5</td>\n",
       "      <td>0</td>\n",
       "      <td>5</td>\n",
       "    </tr>\n",
       "    <tr>\n",
       "      <th>ML</th>\n",
       "      <td>65</td>\n",
       "      <td>0</td>\n",
       "      <td>65</td>\n",
       "    </tr>\n",
       "    <tr>\n",
       "      <th>MS</th>\n",
       "      <td>766</td>\n",
       "      <td>936</td>\n",
       "      <td>1702</td>\n",
       "    </tr>\n",
       "    <tr>\n",
       "      <th>MW</th>\n",
       "      <td>3684</td>\n",
       "      <td>4038</td>\n",
       "      <td>7722</td>\n",
       "    </tr>\n",
       "    <tr>\n",
       "      <th>MWB</th>\n",
       "      <td>1112</td>\n",
       "      <td>1346</td>\n",
       "      <td>2458</td>\n",
       "    </tr>\n",
       "    <tr>\n",
       "      <th>MWC</th>\n",
       "      <td>2389</td>\n",
       "      <td>3279</td>\n",
       "      <td>5668</td>\n",
       "    </tr>\n",
       "    <tr>\n",
       "      <th>MWR</th>\n",
       "      <td>12</td>\n",
       "      <td>14</td>\n",
       "      <td>26</td>\n",
       "    </tr>\n",
       "    <tr>\n",
       "      <th>MWW</th>\n",
       "      <td>879</td>\n",
       "      <td>1104</td>\n",
       "      <td>1983</td>\n",
       "    </tr>\n",
       "    <tr>\n",
       "      <th>Explosion</th>\n",
       "      <th>MB</th>\n",
       "      <td>2</td>\n",
       "      <td>2</td>\n",
       "      <td>4</td>\n",
       "    </tr>\n",
       "    <tr>\n",
       "      <th rowspan=\"2\" valign=\"top\">Nuclear Explosion</th>\n",
       "      <th>MB</th>\n",
       "      <td>135</td>\n",
       "      <td>28</td>\n",
       "      <td>163</td>\n",
       "    </tr>\n",
       "    <tr>\n",
       "      <th>ML</th>\n",
       "      <td>12</td>\n",
       "      <td>0</td>\n",
       "      <td>12</td>\n",
       "    </tr>\n",
       "    <tr>\n",
       "      <th>Rock Burst</th>\n",
       "      <th>MWC</th>\n",
       "      <td>0</td>\n",
       "      <td>1</td>\n",
       "      <td>1</td>\n",
       "    </tr>\n",
       "    <tr>\n",
       "      <th>All</th>\n",
       "      <th></th>\n",
       "      <td>10614</td>\n",
       "      <td>12795</td>\n",
       "      <td>23409</td>\n",
       "    </tr>\n",
       "  </tbody>\n",
       "</table>\n",
       "</div>"
      ],
      "text/plain": [
       "Hemisfério                        Norte    Sul    All\n",
       "Type              Magnitude Type                     \n",
       "Earthquake        MB               1547   2047   3594\n",
       "                  MD                  6      0      6\n",
       "                  MH                  5      0      5\n",
       "                  ML                 65      0     65\n",
       "                  MS                766    936   1702\n",
       "                  MW               3684   4038   7722\n",
       "                  MWB              1112   1346   2458\n",
       "                  MWC              2389   3279   5668\n",
       "                  MWR                12     14     26\n",
       "                  MWW               879   1104   1983\n",
       "Explosion         MB                  2      2      4\n",
       "Nuclear Explosion MB                135     28    163\n",
       "                  ML                 12      0     12\n",
       "Rock Burst        MWC                 0      1      1\n",
       "All                               10614  12795  23409"
      ]
     },
     "execution_count": 183,
     "metadata": {},
     "output_type": "execute_result"
    }
   ],
   "source": [
    "TipoM2 = pd.crosstab([df.Type, df['Magnitude Type']], df.Hemisfério,  margins=True)\n",
    "TipoM2 = TipoM2.round(decimals=2)\n",
    "TipoM2"
   ]
  },
  {
   "cell_type": "code",
   "execution_count": 186,
   "metadata": {},
   "outputs": [
    {
     "name": "stdout",
     "output_type": "stream",
     "text": [
      "Pnorte = 82.8220858896%\n",
      "Psul = 17.1779141104%\n"
     ]
    }
   ],
   "source": [
    "Pnorte = (TipoM2['Norte'][11]/TipoM2['All'][11])\n",
    "print(\"Pnorte = \"+ str(Pnorte*100) +\"%\")\n",
    "\n",
    "Psul = (TipoM2['Sul'][11]/TipoM2['All'][11])\n",
    "print(\"Psul = \"+ str(Psul*100) +\"%\")\n"
   ]
  }
 ],
 "metadata": {
  "kernelspec": {
   "display_name": "Python 3",
   "language": "python",
   "name": "python3"
  },
  "language_info": {
   "codemirror_mode": {
    "name": "ipython",
    "version": 3
   },
   "file_extension": ".py",
   "mimetype": "text/x-python",
   "name": "python",
   "nbconvert_exporter": "python",
   "pygments_lexer": "ipython3",
   "version": "3.6.1"
  }
 },
 "nbformat": 4,
 "nbformat_minor": 1
}
